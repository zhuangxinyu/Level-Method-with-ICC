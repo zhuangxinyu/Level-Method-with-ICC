{
 "cells": [
  {
   "cell_type": "code",
   "execution_count": 2619,
   "id": "6a53f32e",
   "metadata": {},
   "outputs": [],
   "source": [
    "%run Preprocessing.ipynb"
   ]
  },
  {
   "cell_type": "code",
   "execution_count": 9,
   "id": "2727ce80",
   "metadata": {},
   "outputs": [],
   "source": [
    "import warnings\n",
    "warnings.filterwarnings('ignore')\n",
    "import gurobipy as gp\n",
    "import pandas as pd\n",
    "import time"
   ]
  },
  {
   "cell_type": "code",
   "execution_count": 10,
   "id": "561784c7",
   "metadata": {},
   "outputs": [],
   "source": [
    "def Provide_h(x_v, k):\n",
    "    G  = []\n",
    "    for n in N:\n",
    "        for v in range(0,n+1):\n",
    "            G.append(2*v*h[n-1]*x_v[k,n,v])\n",
    "    return G"
   ]
  },
  {
   "cell_type": "code",
   "execution_count": 11,
   "id": "6b25f689",
   "metadata": {},
   "outputs": [],
   "source": [
    "def Provide_Q(x, x_v, k):\n",
    "    Q = []\n",
    "    for n in N:\n",
    "        for v in range(0,n+1):\n",
    "            Q.append(x[n,v]-x_v[k,n,v])\n",
    "    return Q"
   ]
  },
  {
   "cell_type": "markdown",
   "id": "1d5963f3",
   "metadata": {},
   "source": [
    "## Level Method with ICC"
   ]
  },
  {
   "cell_type": "markdown",
   "id": "477c1b4e",
   "metadata": {},
   "source": [
    "### Approximation"
   ]
  },
  {
   "cell_type": "code",
   "execution_count": 12,
   "id": "957c2c29",
   "metadata": {},
   "outputs": [],
   "source": [
    "def Approx(N, k, beta, x_v, contact, con, con_prob, M):\n",
    "    m = gp.Model()\n",
    "    m.setParam('OutputFlag', 0)\n",
    "\n",
    "    x = {}\n",
    "    for n in N:\n",
    "        for v in range(0,n+1):\n",
    "            x[n, v] = m.addVar(vtype='C', name=\"x[%s,%s]\"%(n,v))\n",
    "    z = m.addVar(vtype='C', name=\"z\",lb = -1000)\n",
    "\n",
    "    m.setObjective(z, gp.GRB.MINIMIZE) \n",
    "\n",
    "    m.update()\n",
    "    for i in range(k+1):\n",
    "        Q = Provide_Q(x, x_v, i)  # Define Q vector\n",
    "        G = Provide_h(x_v, i)  # Create G matrix\n",
    "        m.addConstr(gp.quicksum(gp.quicksum(v * h[n-1] * x_v[i, n, v]* x_v[i, n, v] for v in range(n+1)) for n in N) \n",
    "                    + gp.quicksum(G[j] * Q[j] for j in range(len(G))) <= z)\n",
    "\n",
    "    m.update()\n",
    "\n",
    "    for n in N:\n",
    "        m.addConstr(gp.quicksum(x[n,v] for v in range(0, n+1)) == 1)\n",
    "    b, e = 0.25, 0.83\n",
    "    # Add the cut\n",
    "    m.addConstr(1 + beta >= gp.quicksum(gp.quicksum(x[n,v]*(1/mu)*contact*h[n-1]*((1-b)\n",
    "            *(n-v*e)+ b*(n-v*e)**2 + b*v*e*(1-e)) for v in range(0, n+1)) for n in N))\n",
    "    for i in range(1, k+1):\n",
    "        m.addConstr(gp.quicksum(con_prob[j] for j in M[i]) + beta >= gp.quicksum(gp.quicksum(gp.quicksum(x[n,v]*(1/mu)*con[j]*h[n-1]*((1-b)\n",
    "            *(n-v*e)+ b*(n-v*e)**2 + b*v*e*(1-e)) for v in range(0, n+1)) for n in N) *con_prob[j] for j in M[i]) )\n",
    "    \n",
    "    m.update()\n",
    "    m.optimize()\n",
    "    \n",
    "    #print(f\"f hat: {m.objVal}\")\n",
    "    x_value = {}\n",
    "    for n in N:\n",
    "        for v in range(0,n+1):\n",
    "            if x[n,v].X != 0:\n",
    "                #print(\"x[%s,%s]=\"%(n,v), x[n,v].X)\n",
    "                x_value[n,v] = x[n,v].X\n",
    "                \n",
    "            else:\n",
    "                x_value[n,v] = 0\n",
    "\n",
    "    z = m.objVal\n",
    "    return z"
   ]
  },
  {
   "cell_type": "markdown",
   "id": "3af74044",
   "metadata": {},
   "source": [
    "## Projection"
   ]
  },
  {
   "cell_type": "code",
   "execution_count": 13,
   "id": "d69521d6",
   "metadata": {},
   "outputs": [],
   "source": [
    "def Project(N, k, beta, z, best, x_v, contact, alpha, con, con_prob, M):\n",
    "    m = gp.Model()\n",
    "    m.setParam('OutputFlag', 0)\n",
    "\n",
    "    x = {}\n",
    "    for n in N:\n",
    "        for v in range(0,n+1):\n",
    "            x[n, v] = m.addVar(vtype='C', name=\"x[%s,%s]\"%(n,v))\n",
    "    \n",
    "    m.setObjective(gp.quicksum(gp.quicksum(pow(x[n,v]-(x_v[k,n,v]-h[n-1]*v*x_v[k,n,v]),2) for v in range(0, n+1)) for n in N), gp.GRB.MINIMIZE)\n",
    "    \n",
    "    m.update()\n",
    "    for i in range(k+1):\n",
    "        G = Provide_h(x_v, i)  # Create G matrix\n",
    "        Q = Provide_Q(x, x_v, i) # Define Q vector\n",
    "        m.addConstr(gp.quicksum(gp.quicksum(v * h[n-1] * x_v[i, n, v]* x_v[i, n, v] for v in range(n+1)) for n in N) +gp.quicksum(G[j] * Q[j] for j in range(len(G))) \n",
    "                    <= (1-alpha)*z + alpha*best)\n",
    "       \n",
    "    for n in N:\n",
    "        m.addConstr(gp.quicksum(x[n,v] for v in range(0, n+1)) == 1)\n",
    "    \n",
    "    b, e = 0.25, 0.83\n",
    "    # Add the cut\n",
    "    m.addConstr(1 + beta >= gp.quicksum(gp.quicksum(x[n,v]*(1/mu)*contact*h[n-1]*((1-b)\n",
    "            *(n-v*e)+ b*(n-v*e)**2 + b*v*e*(1-e)) for v in range(0, n+1)) for n in N))\n",
    "    for i in range(1, k+1):\n",
    "        m.addConstr(gp.quicksum(con_prob[j] for j in M[i]) + beta >= gp.quicksum(gp.quicksum(gp.quicksum(x[n,v]*(1/mu)*con[j]*h[n-1]*((1-b)\n",
    "            *(n-v*e)+ b*(n-v*e)**2 + b*v*e*(1-e)) for v in range(0, n+1)) for n in N) *con_prob[j] for j in M[i]) )\n",
    "    m.update()\n",
    "    \n",
    "    m.optimize()\n",
    "    #print(f\"projection: {m.objVal}\")\n",
    "    x_value = {}\n",
    "    for n in N:\n",
    "        for v in range(0,n+1):\n",
    "            if x[n,v].X > 0.01:\n",
    "                #print(\"x[%s,%s]=\"%(n,v), x[n,v].X)\n",
    "                x_value[k+1,n,v] = x[n,v].X            \n",
    "            else:\n",
    "                x_value[k+1,n,v] = 0\n",
    "                \n",
    "    return  x_value"
   ]
  },
  {
   "cell_type": "code",
   "execution_count": 14,
   "id": "5cbc457f",
   "metadata": {},
   "outputs": [],
   "source": [
    "# Initialization\n",
    "m = [2.3, 2.0, 1.8, 1.2, 0.9, 0.6]\n",
    "m_prob = [0.01, 0.1, 0.25, 0.25, 0.25, 0.14]\n",
    "mean_contact = 0\n",
    "for j in range(len(m)):\n",
    "    mean_contact += m[j] * m_prob[j]\n",
    "mu = 2.5\n",
    "h = [0.41,0.33,0.18,0.45,0.06,0.02,0.01]"
   ]
  },
  {
   "cell_type": "code",
   "execution_count": 18,
   "id": "377cfc38",
   "metadata": {},
   "outputs": [],
   "source": [
    "N = {1,2,3,4,5,6,7}\n",
    "beta = 0.001\n",
    "alpha = 0.3\n",
    "x_v = {} # Initialization\n",
    "x_v[0, 1, 1] = 1\n",
    "x_v[0, 2, 2] = 1\n",
    "x_v[0, 3, 3] = 1\n",
    "x_v[0, 4, 4] = 1\n",
    "x_v[0, 5, 5] = 1\n",
    "x_v[0, 6, 6] = 1\n",
    "x_v[0, 7, 7] = 1\n",
    "for n in N:\n",
    "    for v in range(0,n+1):\n",
    "        if (0, n,v) not in x_v.keys():\n",
    "            x_v[0, n, v] = 0\n",
    "Good_so_far = []\n",
    "M = {}"
   ]
  },
  {
   "cell_type": "code",
   "execution_count": 19,
   "id": "91d9833c",
   "metadata": {
    "scrolled": false
   },
   "outputs": [
    {
     "name": "stdout",
     "output_type": "stream",
     "text": [
      "--------------------k=0----------------\n",
      "--------------------k=1----------------\n",
      "--------------------k=2----------------\n",
      "--------------------k=3----------------\n",
      "optimal value =  1.5583889594037388\n",
      "x_v[ 1 0 ]= 0.4682113582883071\n",
      "x_v[ 1 1 ]= 0.5317886417116928\n",
      "x_v[ 2 1 ]= 0.0665980167897309\n",
      "x_v[ 2 2 ]= 0.933401983208854\n",
      "x_v[ 3 2 ]= 0.07936502459038255\n",
      "x_v[ 3 3 ]= 0.9206349753990037\n",
      "x_v[ 4 3 ]= 0.5132471498547699\n",
      "x_v[ 4 4 ]= 0.4867528488349771\n",
      "x_v[ 5 3 ]= 0.1594069446150239\n",
      "x_v[ 5 4 ]= 0.4466414288436662\n",
      "x_v[ 5 5 ]= 0.39395162653387755\n",
      "x_v[ 6 4 ]= 0.16831090411525745\n",
      "x_v[ 6 5 ]= 0.40138032010223146\n",
      "x_v[ 6 6 ]= 0.43030877566719467\n",
      "x_v[ 7 5 ]= 0.13143302163365217\n",
      "x_v[ 7 6 ]= 0.2754334982184533\n",
      "x_v[ 7 7 ]= 0.5931334186521302\n",
      "Time = 0.052288055419921875\n"
     ]
    }
   ],
   "source": [
    "start_time = time.time()\n",
    "for k in range(10): \n",
    "    \n",
    "    print(\"--------------------k=%d----------------\"%k)\n",
    "    f_good_so_far = 0\n",
    "    for n in N:\n",
    "        for v in range(0,n+1):\n",
    "            f_good_so_far += v * h[n-1] * x_v[k, n, v]* x_v[k, n, v]\n",
    "    Good_so_far.append(f_good_so_far)   \n",
    "#     print(\"Good_so_far = \", Good_so_far)\n",
    "    best = min(Good_so_far)\n",
    "    \n",
    "#     print(\"-------Approximation------\")\n",
    "    z = Approx(N, k, beta, x_v, mean_contact,  m, m_prob, M)\n",
    "    \n",
    "#     print(\"-------Projection-------\")\n",
    "    x_value = Project(N, k, beta, z, best, x_v, mean_contact, alpha, m, m_prob, M)\n",
    "    x_v.update(zip(x_value.keys(), x_value.values()))\n",
    "    \n",
    "    \n",
    "    b, e = 0.25, 0.83\n",
    "    total = 0\n",
    "    T = []\n",
    "    for i in range(len(m)):\n",
    "        R_hv = 0\n",
    "        for n in N:\n",
    "            for v in range(n + 1):\n",
    "                R_hv += x_v[k+1, n,v] * (1/mu)*m[i]*h[n-1]*((1-b)*(n-v*e)+b*(n-v*e)**2 + b*v*e*(1-e))\n",
    "        total +=  max(0,R_hv-1)*m_prob[i] \n",
    "        if R_hv - 1 > 0:\n",
    "            T.append(i)\n",
    "    M[k+1] = T\n",
    "    if total  <= beta :\n",
    "        break\n",
    "    \n",
    "print(\"optimal value = \", best)\n",
    "for n in N:\n",
    "    for v in range(0,n+1):\n",
    "        if x_v[k,n,v] > 0.01:\n",
    "            print(\"x_v[\",n,v, \"]=\" ,x_v[k,n,v])\n",
    "print(\"Time =\", time.time()-start_time)"
   ]
  },
  {
   "cell_type": "markdown",
   "id": "ea081c95",
   "metadata": {},
   "source": [
    "## DEP formulation - Optimal Solution"
   ]
  },
  {
   "cell_type": "code",
   "execution_count": 22,
   "id": "c11142be",
   "metadata": {},
   "outputs": [],
   "source": [
    "def DEP(h, mu, N, beta,  con, con_prob):\n",
    "    m = gp.Model()\n",
    "    m.setParam('OutputFlag', 0)\n",
    "    \n",
    "    x, y = {}, {}\n",
    "    for n in N:\n",
    "        for v in range(0,n+1):\n",
    "            x[n, v] = m.addVar(vtype='C', name=\"x[%s,%s]\"%(n,v))\n",
    "    for i in range(len(con)):\n",
    "        y[i] = m.addVar(vtype='C', name=\"y[%s]\"%(i))\n",
    "        \n",
    "    m.setObjective(gp.quicksum(gp.quicksum(v * h[n-1] * x[n,v]*x[n,v] for v in range(0, n+1)) for n in N), gp.GRB.MINIMIZE)\n",
    "    \n",
    "    b, e = 0.25, 0.83\n",
    "    for i in range(len(con)):\n",
    "        m.addConstr(1 + y[i] >= gp.quicksum(gp.quicksum((1/mu)*con[i]*h[n-1]*((1-b)\n",
    "            *(n-v*e)+ b*(n-v*e)**2 + b*v*e*(1-e))\n",
    "            *x[n,v] for v in range(0, n+1)) for n in N))    \n",
    "  \n",
    "    m.addConstr(gp.quicksum(con_prob[i] * y[i] for i in range(len(con))) <= beta)\n",
    "    \n",
    "    for n in N:\n",
    "        m.addConstr(gp.quicksum(x[n,v] for v in range(0, n+1)) == 1)\n",
    "\n",
    "    m.update()\n",
    "    m.optimize()\n",
    "    x_value = {}\n",
    "    x_v = {}\n",
    "    for n in N:\n",
    "        for v in range(0,n+1):\n",
    "            if x[n,v].X >0.1 :\n",
    "                print(\"x[%s,%s]=\"%(n,v), x[n,v].X)\n",
    "                x_value[n,v] = x[n,v].X\n",
    "                x_v[n,v] = x[n,v].X\n",
    "            else:\n",
    "                x_value[n,v] = 0\n",
    "    print(m.objVal)\n",
    "    return x_v"
   ]
  },
  {
   "cell_type": "code",
   "execution_count": 23,
   "id": "8fb371e6",
   "metadata": {},
   "outputs": [
    {
     "name": "stdout",
     "output_type": "stream",
     "text": [
      "x[1,0]= 0.1270610375821679\n",
      "x[1,1]= 0.8729389624178321\n",
      "x[2,1]= 0.3509537417664538\n",
      "x[2,2]= 0.6490462581507549\n",
      "x[3,2]= 0.39573228239286695\n",
      "x[3,3]= 0.6042677170562735\n",
      "x[4,3]= 0.41492308484422774\n",
      "x[4,4]= 0.5850769131967097\n",
      "x[5,4]= 0.4074643289739546\n",
      "x[5,5]= 0.5599191051807377\n",
      "x[6,5]= 0.38731748614145883\n",
      "x[6,6]= 0.5300875753294242\n",
      "x[7,5]= 0.11444743039298094\n",
      "x[7,6]= 0.37544077562844563\n",
      "x[7,7]= 0.5101117837270118\n",
      "1.943928888992441\n",
      "Time = 0.00893092155456543\n"
     ]
    }
   ],
   "source": [
    "start_time = time.time()\n",
    "xx = DEP(h, mu, N, beta,  m, m_prob)\n",
    "print(\"Time =\", time.time()-start_time)"
   ]
  },
  {
   "cell_type": "code",
   "execution_count": null,
   "id": "e27676ca",
   "metadata": {},
   "outputs": [],
   "source": []
  }
 ],
 "metadata": {
  "kernelspec": {
   "display_name": "Python 3 (ipykernel)",
   "language": "python",
   "name": "python3"
  },
  "language_info": {
   "codemirror_mode": {
    "name": "ipython",
    "version": 3
   },
   "file_extension": ".py",
   "mimetype": "text/x-python",
   "name": "python",
   "nbconvert_exporter": "python",
   "pygments_lexer": "ipython3",
   "version": "3.8.10"
  }
 },
 "nbformat": 4,
 "nbformat_minor": 5
}
